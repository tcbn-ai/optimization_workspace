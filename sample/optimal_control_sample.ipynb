{
    "cells": [
        {
            "cell_type": "markdown",
            "source": [
                "# 非線形最適制御問題を数値的に解く\n",
                "## 参考\n",
                "- CasADi - Docs [8. Optimal control with CasADi](https://web.casadi.org/docs/#a-simple-test-problem)\n",
                "- CasADi [direct_single_shooting.py](https://github.com/casadi/casadi/blob/master/docs/examples/python/direct_single_shooting.py)\n",
                "\n",
                "## 例題\n",
                "Van der Pol oscillator to the originを考える．\n",
                "\n",
                "$$\\text{minimize}_{x(\\cdot) \\in \\mathbb{R}^2, u(\\cdot) \\in \\mathbb{R}} \\; \\; \\int_{t=0}^T (x_0^2 + x_1^2 + u^2) dt \\\\ \\text{subject to} \\; \\; \\begin{cases} \\dot{x}_0 = (1 - x_1^2)x_0 - x_1 + u \\\\ \\dot{x}_1 = x_0 \\\\ -1.0 \\leq u \\leq 1.0, x_1 \\geq -0.25 \\end{cases} \\text{for} \\; 0 \\leq t \\leq T \\\\ x_0(0) = 0, \\; x_1(0) = 1$$\n",
                "\n",
                "ただし，$T = 10$とする．"
            ],
            "metadata": {}
        },
        {
            "cell_type": "code",
            "execution_count": 2,
            "source": [
                "######## Packages ########\n",
                "from casadi import *\n",
                "import matplotlib.pyplot as plt \n",
                "##########################"
            ],
            "outputs": [],
            "metadata": {}
        }
    ],
    "metadata": {
        "orig_nbformat": 4,
        "language_info": {
            "name": "python",
            "version": "3.8.11",
            "mimetype": "text/x-python",
            "codemirror_mode": {
                "name": "ipython",
                "version": 3
            },
            "pygments_lexer": "ipython3",
            "nbconvert_exporter": "python",
            "file_extension": ".py"
        },
        "kernelspec": {
            "name": "python3",
            "display_name": "Python 3.8.11 64-bit"
        },
        "interpreter": {
            "hash": "4cd7ab41f5fca4b9b44701077e38c5ffd31fe66a6cab21e0214b68d958d0e462"
        }
    },
    "nbformat": 4,
    "nbformat_minor": 2
}