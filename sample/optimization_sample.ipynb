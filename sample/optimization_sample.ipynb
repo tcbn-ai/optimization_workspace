{
    "cells": [
        {
            "cell_type": "markdown",
            "source": [
                "# 非線形最適化問題を数値的に解く\n",
                "## 参考\n",
                "- [CasADi](https://web.casadi.org/)\n",
                "- [CasADiとIPOPTで非線形計画問題を解く](https://helve-blog.com/posts/python/casadi-nonlinear-programming/)\n",
                "\n",
                "## 例題\n",
                "$$\\text{minimize} \\; \\; f(x_1, x_2) = x_1^2 + x_2^2 \\\\ \\text{subject to} \\; \\; x_1 x_2 \\geq 1, \\; x_1 \\geq 0, \\; x_2 \\geq 0$$"
            ],
            "metadata": {}
        },
        {
            "cell_type": "code",
            "execution_count": 1,
            "source": [
                "######## Packages ########\n",
                "import casadi \n",
                "##########################"
            ],
            "outputs": [],
            "metadata": {}
        },
        {
            "cell_type": "code",
            "execution_count": 2,
            "source": [
                "######## Create object of optimization problem ########\n",
                "opti = casadi.Opti()\n",
                "#######################################################"
            ],
            "outputs": [],
            "metadata": {}
        },
        {
            "cell_type": "code",
            "execution_count": 3,
            "source": [
                "######## Define variables ########\n",
                "\"\"\"\n",
                "- variable()に引数を与えない場合，変数はスカラ．\n",
                "- variable()に引数を整数として与えるとベクトル．\n",
                "\"\"\"\n",
                "x1 = opti.variable()\n",
                "x2 = opti.variable()\n",
                "##################################"
            ],
            "outputs": [],
            "metadata": {}
        },
        {
            "cell_type": "code",
            "execution_count": 4,
            "source": [
                "######## Define objective function ########\n",
                "\"\"\"\n",
                "- opti.minimizeメソッドに目的関数を引数として与える\n",
                "\"\"\"\n",
                "OBJ = x1**2 + x2**2 \n",
                "opti.minimize(OBJ)\n",
                "###########################################"
            ],
            "outputs": [],
            "metadata": {}
        },
        {
            "cell_type": "code",
            "execution_count": 5,
            "source": [
                "######## Define constraints ########\n",
                "\"\"\"\n",
                "- subject_toメソッドで制約条件を設定する\n",
                "\"\"\"\n",
                "opti.subject_to(x1*x2 >= 1)\n",
                "opti.subject_to(x1 >= 0)\n",
                "opti.subject_to(x2 >= 0)\n",
                "####################################"
            ],
            "outputs": [],
            "metadata": {}
        },
        {
            "cell_type": "code",
            "execution_count": 6,
            "source": [
                "######## Set solver and solve problem ########\n",
                "opti.solver('ipopt') \n",
                "sol = opti.solve()\n",
                "##############################################"
            ],
            "outputs": [
                {
                    "output_type": "stream",
                    "name": "stdout",
                    "text": [
                        "\n",
                        "******************************************************************************\n",
                        "This program contains Ipopt, a library for large-scale nonlinear optimization.\n",
                        " Ipopt is released as open source code under the Eclipse Public License (EPL).\n",
                        "         For more information visit http://projects.coin-or.org/Ipopt\n",
                        "******************************************************************************\n",
                        "\n",
                        "This is Ipopt version 3.12.3, running with linear solver mumps.\n",
                        "NOTE: Other linear solvers might be more efficient (see Ipopt documentation).\n",
                        "\n",
                        "Number of nonzeros in equality constraint Jacobian...:        0\n",
                        "Number of nonzeros in inequality constraint Jacobian.:        4\n",
                        "Number of nonzeros in Lagrangian Hessian.............:        3\n",
                        "\n",
                        "Total number of variables............................:        2\n",
                        "                     variables with only lower bounds:        0\n",
                        "                variables with lower and upper bounds:        0\n",
                        "                     variables with only upper bounds:        0\n",
                        "Total number of equality constraints.................:        0\n",
                        "Total number of inequality constraints...............:        3\n",
                        "        inequality constraints with only lower bounds:        3\n",
                        "   inequality constraints with lower and upper bounds:        0\n",
                        "        inequality constraints with only upper bounds:        0\n",
                        "\n",
                        "iter    objective    inf_pr   inf_du lg(mu)  ||d||  lg(rg) alpha_du alpha_pr  ls\n",
                        "   0  0.0000000e+00 1.00e+00 5.00e-01  -1.0 0.00e+00    -  0.00e+00 0.00e+00   0\n",
                        "   1  2.2792928e-06 1.00e+00 1.09e+02  -1.0 1.01e+00    -  1.00e+00 9.80e-03h  1\n",
                        "   2  3.4359183e-04 1.00e+00 9.91e+01  -1.0 9.66e+01    -  1.14e-04 1.25e-04h  1\n",
                        "   3  2.9155508e+00 0.00e+00 1.20e+04  -1.0 3.82e+01    -  6.50e-04 3.12e-02h  6\n",
                        "   4  2.2766729e+00 0.00e+00 3.56e+03  -1.0 1.50e-01   4.0 8.80e-04 1.00e+00f  1\n",
                        "   5  2.2596257e+00 0.00e+00 3.73e+01  -1.0 1.12e-02   3.5 1.00e+00 1.00e+00h  1\n",
                        "   6  2.2585315e+00 0.00e+00 5.90e-01  -1.0 5.31e-04   3.0 1.00e+00 1.00e+00h  1\n",
                        "   7  2.0098366e+00 0.00e+00 2.93e-01  -1.7 2.90e-01    -  1.00e+00 4.42e-01f  1\n",
                        "   8  2.0210611e+00 0.00e+00 1.08e-03  -1.7 9.23e-03    -  1.00e+00 1.00e+00f  1\n",
                        "   9  2.0000580e+00 0.00e+00 9.35e-05  -3.8 1.05e-02    -  1.00e+00 9.98e-01f  1\n",
                        "iter    objective    inf_pr   inf_du lg(mu)  ||d||  lg(rg) alpha_du alpha_pr  ls\n",
                        "  10  2.0000018e+00 0.00e+00 5.45e-09  -5.7 1.41e-05    -  1.00e+00 1.00e+00h  1\n",
                        "  11  2.0000000e+00 0.00e+00 8.53e-13  -8.6 9.21e-07    -  1.00e+00 1.00e+00h  1\n",
                        "\n",
                        "Number of Iterations....: 11\n",
                        "\n",
                        "                                   (scaled)                 (unscaled)\n",
                        "Objective...............:   1.9999999825046224e+00    1.9999999825046224e+00\n",
                        "Dual infeasibility......:   8.5287332751704525e-13    8.5287332751704525e-13\n",
                        "Constraint violation....:   0.0000000000000000e+00    0.0000000000000000e+00\n",
                        "Complementarity.........:   2.5067538814340112e-09    2.5067538814340112e-09\n",
                        "Overall NLP error.......:   2.5067538814340112e-09    2.5067538814340112e-09\n",
                        "\n",
                        "\n",
                        "Number of objective function evaluations             = 19\n",
                        "Number of objective gradient evaluations             = 12\n",
                        "Number of equality constraint evaluations            = 0\n",
                        "Number of inequality constraint evaluations          = 19\n",
                        "Number of equality constraint Jacobian evaluations   = 0\n",
                        "Number of inequality constraint Jacobian evaluations = 12\n",
                        "Number of Lagrangian Hessian evaluations             = 11\n",
                        "Total CPU secs in IPOPT (w/o function evaluations)   =      0.009\n",
                        "Total CPU secs in NLP function evaluations           =      0.001\n",
                        "\n",
                        "EXIT: Optimal Solution Found.\n",
                        "      solver  :   t_proc      (avg)   t_wall      (avg)    n_eval\n",
                        "       nlp_f  |  45.00us (  2.37us)  44.73us (  2.35us)        19\n",
                        "       nlp_g  |  69.00us (  3.63us)  64.65us (  3.40us)        19\n",
                        "  nlp_grad_f  |  55.00us (  4.23us)  50.37us (  3.87us)        13\n",
                        "  nlp_hess_l  |  59.00us (  5.36us)  58.01us (  5.27us)        11\n",
                        "   nlp_jac_g  |  68.00us (  5.23us)  70.43us (  5.42us)        13\n",
                        "       total  |  10.70ms ( 10.70ms)   9.45ms (  9.45ms)         1\n"
                    ]
                }
            ],
            "metadata": {}
        },
        {
            "cell_type": "code",
            "execution_count": 7,
            "source": [
                "######## Output ########\n",
                "print(f'objective function: {sol.value(OBJ)}')\n",
                "print(f'x1: {sol.value(x1)}')\n",
                "print(f'x2: {sol.value(x2)}')\n",
                "########################"
            ],
            "outputs": [
                {
                    "output_type": "stream",
                    "name": "stdout",
                    "text": [
                        "objective function: 1.9999999825046224\n",
                        "x1: 0.9999999956261556\n",
                        "x2: 0.9999999956261556\n"
                    ]
                }
            ],
            "metadata": {}
        }
    ],
    "metadata": {
        "orig_nbformat": 4,
        "language_info": {
            "name": "python",
            "version": "3.8.11",
            "mimetype": "text/x-python",
            "codemirror_mode": {
                "name": "ipython",
                "version": 3
            },
            "pygments_lexer": "ipython3",
            "nbconvert_exporter": "python",
            "file_extension": ".py"
        },
        "kernelspec": {
            "name": "python3",
            "display_name": "Python 3.8.11 64-bit"
        },
        "interpreter": {
            "hash": "4cd7ab41f5fca4b9b44701077e38c5ffd31fe66a6cab21e0214b68d958d0e462"
        }
    },
    "nbformat": 4,
    "nbformat_minor": 2
}